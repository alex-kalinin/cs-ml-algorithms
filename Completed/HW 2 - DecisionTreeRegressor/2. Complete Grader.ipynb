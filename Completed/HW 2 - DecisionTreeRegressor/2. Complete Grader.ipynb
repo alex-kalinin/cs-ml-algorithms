{
 "cells": [
  {
   "cell_type": "markdown",
   "metadata": {},
   "source": [
    "**Don't change the grader**. It will be used to grade your code as is. Fix any errors in your library."
   ]
  },
  {
   "cell_type": "code",
   "execution_count": null,
   "metadata": {},
   "outputs": [],
   "source": [
    "%reload_ext autoreload\n",
    "%autoreload 2\n",
    "%matplotlib inline"
   ]
  },
  {
   "cell_type": "markdown",
   "metadata": {},
   "source": [
    "# Your Code Imported Here"
   ]
  },
  {
   "cell_type": "code",
   "execution_count": null,
   "metadata": {},
   "outputs": [],
   "source": [
    "from csc665 import features, metrics\n",
    "import csc665.tree"
   ]
  },
  {
   "cell_type": "markdown",
   "metadata": {},
   "source": [
    "# Prepare"
   ]
  },
  {
   "cell_type": "code",
   "execution_count": null,
   "metadata": {},
   "outputs": [],
   "source": [
    "\n",
    "import numpy as np\n",
    "import pandas as pd\n",
    "from sklearn.metrics import mean_squared_error, r2_score\n",
    "import unittest as ut\n",
    "import sklearn.tree\n",
    "\n",
    "class Object(object): pass\n",
    "class TC(ut.TestCase): pass\n",
    "tc = TC()"
   ]
  },
  {
   "cell_type": "code",
   "execution_count": null,
   "metadata": {},
   "outputs": [],
   "source": [
    "csv_df = pd.read_csv(\"data/Melbourne_housing_FULL.csv\")"
   ]
  },
  {
   "cell_type": "markdown",
   "metadata": {},
   "source": [
    "# Retest Library from Homework 1\n",
    "\n",
    "It will be needed to use the Melbourne dataset. If you're seeing errors, \n",
    "please refer to the **sample implementation** of the library functions in **iLearn**."
   ]
  },
  {
   "cell_type": "markdown",
   "metadata": {},
   "source": [
    "## `preprocess_ver_1`"
   ]
  },
  {
   "cell_type": "code",
   "execution_count": null,
   "metadata": {},
   "outputs": [],
   "source": [
    "_mel = features.Object()\n",
    "_mel.X, _mel.y = features.preprocess_ver_1(csv_df, \"Price\")"
   ]
  },
  {
   "cell_type": "code",
   "execution_count": null,
   "metadata": {},
   "outputs": [],
   "source": [
    "print(_mel.X.shape, _mel.y.shape)\n",
    "\n",
    "assert _mel.X.shape[0] == 8887, \"X.shape\"\n",
    "assert _mel.y.shape[0] == 8887, \"y.shape\""
   ]
  },
  {
   "cell_type": "markdown",
   "metadata": {},
   "source": [
    "## `train_test_split`"
   ]
  },
  {
   "cell_type": "code",
   "execution_count": null,
   "metadata": {},
   "outputs": [],
   "source": [
    "_mel.X_train, _mel.X_test, _mel.y_train, _mel.y_test = features.train_test_split(\n",
    "    _mel.X, _mel.y, test_size=0.2, shuffle=True, random_state=None)"
   ]
  },
  {
   "cell_type": "code",
   "execution_count": null,
   "metadata": {},
   "outputs": [],
   "source": [
    "print(_mel.X.shape, _mel.X_train.shape, _mel.X_test.shape, _mel.y_train.shape, _mel.y_test.shape)\n",
    "\n",
    "tc.assertEqual(_mel.X_test.shape[0], _mel.y_test.shape[0])\n",
    "tc.assertEqual(_mel.X_train.shape[0], _mel.y_train.shape[0])"
   ]
  },
  {
   "cell_type": "code",
   "execution_count": null,
   "metadata": {},
   "outputs": [],
   "source": [
    "if \"DataFrame\" in str(type(_mel.y_train)):\n",
    "    _mel.y_train = _mel.y_train[\"Price\"].values\n",
    "\n",
    "if \"DataFrame\" in str(type(_mel.y_test)):\n",
    "    _mel.y_test = _mel.y_test[\"Price\"].values"
   ]
  },
  {
   "cell_type": "code",
   "execution_count": null,
   "metadata": {},
   "outputs": [],
   "source": [
    "from sklearn.ensemble import RandomForestRegressor\n",
    "rf = RandomForestRegressor(n_estimators=100 , random_state=17)\n",
    "%time _ = rf.fit(_mel.X_train, _mel.y_train)"
   ]
  },
  {
   "cell_type": "markdown",
   "metadata": {},
   "source": [
    "## `MSE`"
   ]
  },
  {
   "cell_type": "code",
   "execution_count": null,
   "metadata": {},
   "outputs": [],
   "source": [
    "_st = Object()\n",
    "_act = Object()\n",
    "\n",
    "_st.mse = metrics.mse(rf.predict(_mel.X_test), _mel.y_test)\n",
    "_act.mse = mean_squared_error(_mel.y_test, rf.predict(_mel.X_test))\n",
    "\n",
    "print(_st.mse, _act.mse)\n",
    "\n",
    "tc.assertAlmostEqual(_st.mse, _act.mse, delta=1)"
   ]
  },
  {
   "cell_type": "markdown",
   "metadata": {},
   "source": [
    "## $R^2$ - Test set"
   ]
  },
  {
   "cell_type": "code",
   "execution_count": null,
   "metadata": {},
   "outputs": [],
   "source": [
    "_st.r2_test = metrics.rsq(rf.predict(_mel.X_test), _mel.y_test)\n",
    "_act.r2_test = r2_score(_mel.y_test, rf.predict(_mel.X_test))\n",
    "\n",
    "print(_st.r2_test, _act.r2_test)\n",
    "tc.assertAlmostEqual(_st.r2_test, _act.r2_test, places=3)\n",
    "tc.assertGreater(_st.r2_test, 0.6)"
   ]
  },
  {
   "cell_type": "markdown",
   "metadata": {},
   "source": [
    "## $R^2$ - Train set"
   ]
  },
  {
   "cell_type": "code",
   "execution_count": null,
   "metadata": {},
   "outputs": [],
   "source": [
    "_st.r2_train = metrics.rsq(rf.predict(_mel.X_train), _mel.y_train)\n",
    "_act.r2_train = r2_score(_mel.y_train, rf.predict(_mel.X_train))\n",
    "\n",
    "print(_st.r2_train, _act.r2_train)\n",
    "tc.assertAlmostEqual(_st.r2_train, _act.r2_train, places=3)\n",
    "tc.assertGreater(_st.r2_train, 0.6)"
   ]
  },
  {
   "cell_type": "markdown",
   "metadata": {},
   "source": [
    "# Homework 2"
   ]
  },
  {
   "cell_type": "code",
   "execution_count": null,
   "metadata": {},
   "outputs": [],
   "source": [
    "def compare_trees(sktree, our_tree, X_train, X_test, y_train, y_test):\n",
    "    sktree.fit(X_train, y_train)\n",
    "    our_tree.fit(X_train, y_train)\n",
    "#     print(our_tree)\n",
    "    \n",
    "    expected = metrics.rsq(sktree.predict(X_train), y_train)\n",
    "    actual = metrics.rsq(our_tree.predict(X_train), y_train)\n",
    "    print(\"Train, sklearn, ours:\", expected, actual)\n",
    "    tc.assertAlmostEqual(expected, actual)\n",
    "    \n",
    "    expected = metrics.rsq(sktree.predict(X_test), y_test)\n",
    "    actual = metrics.rsq(our_tree.predict(X_test), y_test)\n",
    "    print(\"Test, sklearn, ours:\", expected, actual)\n",
    "    tc.assertLess(abs(expected - actual), 0.19)"
   ]
  },
  {
   "cell_type": "markdown",
   "metadata": {},
   "source": [
    "## Income Dataset"
   ]
  },
  {
   "cell_type": "code",
   "execution_count": null,
   "metadata": {},
   "outputs": [],
   "source": [
    "income_df = pd.read_csv(\"http://www-bcf.usc.edu/~gareth/ISL/Income2.csv\")\n",
    "income_df = income_df.drop(\"Unnamed: 0\", axis=1)\n",
    "_income = features.Object()\n",
    "_income.X = income_df.drop(\"Income\", axis=1)\n",
    "_income.y = income_df[\"Income\"].values"
   ]
  },
  {
   "cell_type": "code",
   "execution_count": null,
   "metadata": {},
   "outputs": [],
   "source": [
    "RAND_STATE = 17\n",
    "\n",
    "_income.X_train, _income.X_test, _income.y_train, _income.y_test = \\\n",
    "    features.train_test_split(\n",
    "        _income.X, \n",
    "        _income.y, \n",
    "        test_size=0.2, \n",
    "        shuffle=True, \n",
    "        random_state=RAND_STATE)"
   ]
  },
  {
   "cell_type": "code",
   "execution_count": null,
   "metadata": {
    "run_control": {
     "marked": false
    }
   },
   "outputs": [],
   "source": [
    "compare_trees(\n",
    "    sklearn.tree.DecisionTreeRegressor(max_depth=2, min_samples_leaf=1),\n",
    "    csc665.tree.DecisionTreeRegressor(max_depth=2, min_samples_leaf=1),\n",
    "    _income.X_train, _income.X_test, _income.y_train, _income.y_test)"
   ]
  },
  {
   "cell_type": "code",
   "execution_count": null,
   "metadata": {},
   "outputs": [],
   "source": [
    "compare_trees(\n",
    "    sklearn.tree.DecisionTreeRegressor(max_depth=100, min_samples_leaf=1),\n",
    "    csc665.tree.DecisionTreeRegressor(max_depth=100, min_samples_leaf=1),\n",
    "    _income.X_train, _income.X_test, _income.y_train, _income.y_test)"
   ]
  },
  {
   "cell_type": "code",
   "execution_count": null,
   "metadata": {},
   "outputs": [],
   "source": [
    "compare_trees(\n",
    "    sklearn.tree.DecisionTreeRegressor(max_depth=5, min_samples_leaf=1),\n",
    "    csc665.tree.DecisionTreeRegressor(max_depth=5, min_samples_leaf=1),\n",
    "    _income.X_train, _income.X_test, _income.y_train, _income.y_test)"
   ]
  },
  {
   "cell_type": "code",
   "execution_count": null,
   "metadata": {},
   "outputs": [],
   "source": [
    "compare_trees(\n",
    "    sklearn.tree.DecisionTreeRegressor(max_depth=20, min_samples_leaf=5),\n",
    "    csc665.tree.DecisionTreeRegressor(max_depth=20, min_samples_leaf=5),\n",
    "    _income.X_train, _income.X_test, _income.y_train, _income.y_test)"
   ]
  },
  {
   "cell_type": "code",
   "execution_count": null,
   "metadata": {},
   "outputs": [],
   "source": [
    "compare_trees(\n",
    "    sklearn.tree.DecisionTreeRegressor(max_depth=20, min_samples_leaf=7),\n",
    "    csc665.tree.DecisionTreeRegressor(max_depth=20, min_samples_leaf=7),\n",
    "    _income.X_train, _income.X_test, _income.y_train, _income.y_test)"
   ]
  },
  {
   "cell_type": "markdown",
   "metadata": {},
   "source": [
    "## Melbourne Dataset"
   ]
  },
  {
   "cell_type": "code",
   "execution_count": null,
   "metadata": {},
   "outputs": [],
   "source": [
    "_mel_sampled = features.Object()\n",
    "_mel_sampled.X_train = _mel.X_train[:200]\n",
    "_mel_sampled.y_train = _mel.y_train[:200]\n",
    "_mel_sampled.X_test = _mel.X_test[:50]\n",
    "_mel_sampled.y_test = _mel.y_test[:50]"
   ]
  },
  {
   "cell_type": "code",
   "execution_count": null,
   "metadata": {},
   "outputs": [],
   "source": [
    "%%time \n",
    "compare_trees(\n",
    "    sklearn.tree.DecisionTreeRegressor(max_depth=5, min_samples_leaf=1),\n",
    "    csc665.tree.DecisionTreeRegressor(max_depth=5, min_samples_leaf=1),\n",
    "    _mel_sampled.X_train, _mel_sampled.X_test, _mel_sampled.y_train, _mel_sampled.y_test)"
   ]
  },
  {
   "cell_type": "code",
   "execution_count": null,
   "metadata": {},
   "outputs": [],
   "source": [
    "%%time \n",
    "compare_trees(\n",
    "    sklearn.tree.DecisionTreeRegressor(max_depth=100, min_samples_leaf=1),\n",
    "    csc665.tree.DecisionTreeRegressor(max_depth=100, min_samples_leaf=1),\n",
    "    _mel_sampled.X_train, _mel_sampled.X_test, _mel_sampled.y_train, _mel_sampled.y_test)"
   ]
  },
  {
   "cell_type": "code",
   "execution_count": null,
   "metadata": {},
   "outputs": [],
   "source": [
    "%%time \n",
    "compare_trees(\n",
    "    sklearn.tree.DecisionTreeRegressor(max_depth=100, min_samples_leaf=7),\n",
    "    csc665.tree.DecisionTreeRegressor(max_depth=100, min_samples_leaf=7),\n",
    "    _mel_sampled.X_train, _mel_sampled.X_test, _mel_sampled.y_train, _mel_sampled.y_test)"
   ]
  },
  {
   "cell_type": "code",
   "execution_count": null,
   "metadata": {},
   "outputs": [],
   "source": []
  }
 ],
 "metadata": {
  "kernelspec": {
   "display_name": "Python 3",
   "language": "python",
   "name": "python3"
  },
  "language_info": {
   "codemirror_mode": {
    "name": "ipython",
    "version": 3
   },
   "file_extension": ".py",
   "mimetype": "text/x-python",
   "name": "python",
   "nbconvert_exporter": "python",
   "pygments_lexer": "ipython3",
   "version": "3.5.3"
  },
  "varInspector": {
   "cols": {
    "lenName": 16,
    "lenType": 16,
    "lenVar": 40
   },
   "kernels_config": {
    "python": {
     "delete_cmd_postfix": "",
     "delete_cmd_prefix": "del ",
     "library": "var_list.py",
     "varRefreshCmd": "print(var_dic_list())"
    },
    "r": {
     "delete_cmd_postfix": ") ",
     "delete_cmd_prefix": "rm(",
     "library": "var_list.r",
     "varRefreshCmd": "cat(var_dic_list()) "
    }
   },
   "types_to_exclude": [
    "module",
    "function",
    "builtin_function_or_method",
    "instance",
    "_Feature"
   ],
   "window_display": false
  }
 },
 "nbformat": 4,
 "nbformat_minor": 2
}
