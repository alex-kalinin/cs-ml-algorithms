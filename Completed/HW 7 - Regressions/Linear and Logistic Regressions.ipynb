{
 "cells": [
  {
   "cell_type": "code",
   "execution_count": null,
   "metadata": {
    "collapsed": true
   },
   "outputs": [],
   "source": [
    "%load_ext autoreload\n",
    "%autoreload 2\n",
    "\n",
    "import numpy as np\n",
    "import sklearn.linear_model as sk_linear\n",
    "import pandas as pd\n",
    "import unittest as ut\n",
    "from sklearn.metrics import r2_score\n",
    "from sklearn.model_selection import train_test_split\n",
    "from sklearn.datasets import load_iris\n",
    "\n",
    "class Object(object): pass\n",
    "class TC(ut.TestCase): pass\n",
    "tc = TC()"
   ]
  },
  {
   "cell_type": "markdown",
   "metadata": {},
   "source": [
    "# Library Import"
   ]
  },
  {
   "cell_type": "code",
   "execution_count": null,
   "metadata": {
    "collapsed": true
   },
   "outputs": [],
   "source": [
    "import csc665.linear as our_linear"
   ]
  },
  {
   "cell_type": "markdown",
   "metadata": {},
   "source": [
    "# Test Code"
   ]
  },
  {
   "cell_type": "code",
   "execution_count": null,
   "metadata": {
    "collapsed": true
   },
   "outputs": [],
   "source": [
    "def test_lin_reg(ours, sklearn, obj):\n",
    "    ours.fit(obj.X_train, obj.y_train)\n",
    "    sklearn.fit(obj.X_train, obj.y_train)\n",
    "    \n",
    "    expected = r2_score(obj.y_train, sklearn.predict(obj.X_train))\n",
    "    actual  = r2_score(obj.y_train, ours.predict(obj.X_train))\n",
    "    print(\"Train R^2 - sklearn, ours:\", expected, actual)\n",
    "    tc.assertLess(abs(expected - actual), 0.19)\n",
    "    \n",
    "    expected = r2_score(obj.y_test, sklearn.predict(obj.X_test))\n",
    "    actual  = r2_score(obj.y_test, ours.predict(obj.X_test))\n",
    "    print(\"Test R^2 - sklearn, ours:\", expected, actual)\n",
    "    tc.assertLess(abs(expected - actual), 0.19)    "
   ]
  },
  {
   "cell_type": "markdown",
   "metadata": {},
   "source": [
    "## Linear Regression on Income dataset"
   ]
  },
  {
   "cell_type": "code",
   "execution_count": null,
   "metadata": {
    "collapsed": true
   },
   "outputs": [],
   "source": [
    "_inc = Object()\n",
    "_inc.RANDOM_STATE = 3454\n",
    "_inc.data_df = pd.read_csv(\"http://www-bcf.usc.edu/~gareth/ISL/Income2.csv\")\n",
    "_inc.data_df.drop(\"Unnamed: 0\", axis=1, inplace=True)\n",
    "_inc.X = _inc.data_df.drop('Income', axis=1).values\n",
    "_inc.y = _inc.data_df[\"Income\"].values\n",
    "_inc.X_train, _inc.X_test, _inc.y_train, _inc.y_test = train_test_split(\n",
    "    _inc.X, _inc.y, test_size = 0.2, random_state=_inc.RANDOM_STATE)"
   ]
  },
  {
   "cell_type": "code",
   "execution_count": null,
   "metadata": {},
   "outputs": [],
   "source": [
    "test_lin_reg(our_linear.LinearRegression(0.01, 200), \n",
    "             sk_linear.LinearRegression(), _inc)"
   ]
  },
  {
   "cell_type": "markdown",
   "metadata": {},
   "source": [
    "## Logistic Regression on Iris"
   ]
  },
  {
   "cell_type": "code",
   "execution_count": null,
   "metadata": {
    "collapsed": true
   },
   "outputs": [],
   "source": [
    "_iris = Object()\n",
    "_iris.RAND_STATE = 12\n",
    "_iris.raw = load_iris()\n",
    "\n",
    "_iris.y_indices = _iris.raw['target'] < 2\n",
    "_iris.x_indices = _iris.raw['target'] > 0\n",
    "_iris.X = _iris.raw.data[_iris.x_indices]\n",
    "_iris.y = _iris.raw.target[_iris.y_indices]\n",
    "_iris.X_train, _iris.X_test, _iris.y_train, _iris.y_test = train_test_split(\n",
    "    _iris.X, _iris.y, test_size=0.2, random_state=_iris.RAND_STATE)"
   ]
  },
  {
   "cell_type": "code",
   "execution_count": null,
   "metadata": {
    "collapsed": true
   },
   "outputs": [],
   "source": [
    "from sklearn.metrics import accuracy_score, precision_score, recall_score, confusion_matrix\n",
    "\n",
    "def compare_classifiers(sk_tree, our_tree, obj):\n",
    "    X_train, X_test, y_train, y_test = obj.X_train, obj.X_test, obj.y_train, obj.y_test\n",
    "    \n",
    "    sk_tree.fit(X_train, y_train)\n",
    "    our_tree.fit(X_train, y_train)\n",
    "\n",
    "    # Accuracy\n",
    "    expected = accuracy_score(y_train, sk_tree.predict(X_train))\n",
    "    actual = accuracy_score(y_train, our_tree.predict(X_train))\n",
    "    print(\"Train Accuracy - sklearn, ours:\", expected, actual)\n",
    "    tc.assertLess(abs(expected - actual), 0.19)\n",
    "\n",
    "    expected = accuracy_score(y_test, sk_tree.predict(X_test))\n",
    "    actual = accuracy_score(y_test, our_tree.predict(X_test))\n",
    "    print(\"Test Accuracy - sklearn, ours:\", expected, actual)\n",
    "    tc.assertLess(abs(expected - actual), 0.19)\n",
    "    \n",
    "    # Precision\n",
    "    expected = precision_score(y_train, sk_tree.predict(X_train), average=\"macro\")\n",
    "    actual = precision_score(y_train, our_tree.predict(X_train), average=\"macro\")\n",
    "    print(\"Train Precision - sklearn, ours:\", expected, actual)\n",
    "    tc.assertLess(abs(expected - actual), 0.19)\n",
    "\n",
    "    expected = precision_score(y_test, sk_tree.predict(X_test), average=\"macro\")\n",
    "    actual = precision_score(y_test, our_tree.predict(X_test), average=\"macro\")\n",
    "    print(\"Train Precision - sklearn, ours:\", expected, actual)\n",
    "    tc.assertLess(abs(expected - actual), 0.19)\n",
    "    \n",
    "    expected = precision_score(y_test, sk_tree.predict(X_test), average=None)\n",
    "    actual = precision_score(y_test, our_tree.predict(X_test), average=None)\n",
    "#     tc.assertLess(abs(expected - actual), 0.19)\n",
    "#     tc.assertListEqual(expected, actual)\n",
    "    print(\"Test Precision - sklearn, ours:\", expected, actual)\n",
    "    \n",
    "    # Recall\n",
    "    expected = recall_score(y_train, sk_tree.predict(X_train), average=\"macro\")\n",
    "    actual = recall_score(y_train, our_tree.predict(X_train), average=\"macro\")\n",
    "    print(\"Train Recall - sklearn, ours:\", expected, actual)\n",
    "    tc.assertLess(abs(expected - actual), 0.19)\n",
    "\n",
    "    expected = recall_score(y_test, sk_tree.predict(X_test), average=\"macro\")\n",
    "    actual = recall_score(y_test, our_tree.predict(X_test), average=\"macro\")\n",
    "    print(\"Test Recall - sklearn, ours:\", expected, actual)\n",
    "    tc.assertLess(abs(expected - actual), 0.19)\n",
    "    \n",
    "    expected = recall_score(y_test, sk_tree.predict(X_test), average=None)\n",
    "    actual = recall_score(y_test, our_tree.predict(X_test), average=None)\n",
    "#     tc.assertLess(abs(expected - actual), 0.19)\n",
    "#     tc.assertListEqual(expected, actual)\n",
    "    print(\"Test Recall - sklearn, ours:\", expected, actual)\n"
   ]
  },
  {
   "cell_type": "code",
   "execution_count": null,
   "metadata": {
    "collapsed": true
   },
   "outputs": [],
   "source": [
    "compare_classifiers(our_linear.LogisticRegression(0.01, 200),\n",
    "                   sk_linear.LogisticRegression(C=100),\n",
    "                   _iris)"
   ]
  },
  {
   "cell_type": "code",
   "execution_count": null,
   "metadata": {
    "collapsed": true
   },
   "outputs": [],
   "source": [
    " "
   ]
  }
 ],
 "metadata": {
  "kernelspec": {
   "display_name": "Python 3",
   "language": "python",
   "name": "python3"
  },
  "language_info": {
   "codemirror_mode": {
    "name": "ipython",
    "version": 3
   },
   "file_extension": ".py",
   "mimetype": "text/x-python",
   "name": "python",
   "nbconvert_exporter": "python",
   "pygments_lexer": "ipython3",
   "version": "3.5.3"
  },
  "varInspector": {
   "cols": {
    "lenName": 16,
    "lenType": 16,
    "lenVar": 40
   },
   "kernels_config": {
    "python": {
     "delete_cmd_postfix": "",
     "delete_cmd_prefix": "del ",
     "library": "var_list.py",
     "varRefreshCmd": "print(var_dic_list())"
    },
    "r": {
     "delete_cmd_postfix": ") ",
     "delete_cmd_prefix": "rm(",
     "library": "var_list.r",
     "varRefreshCmd": "cat(var_dic_list()) "
    }
   },
   "types_to_exclude": [
    "module",
    "function",
    "builtin_function_or_method",
    "instance",
    "_Feature"
   ],
   "window_display": false
  }
 },
 "nbformat": 4,
 "nbformat_minor": 2
}
