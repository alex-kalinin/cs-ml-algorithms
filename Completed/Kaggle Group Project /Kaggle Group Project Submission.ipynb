{
 "cells": [
  {
   "cell_type": "markdown",
   "metadata": {},
   "source": [
    "# Kaggle Project Submission Form | Spring 2019 CSC 665 \n",
    "\n",
    "Please fill out the following sections.\n",
    "\n",
    "\n",
    "## 1. Dataset and Metrics\n",
    "\n",
    "1. Is it image, text processing, tabular dataset, etc.?\n",
    "\n",
    "2. What metrics does Kaggle use to evaluate this competition? Provide exact formulas, and your implementation, or refer to the existing API (NumPy, Pytorch, etc.)\n",
    "\n",
    "3. How many samples does the entire dataset have?\n",
    "\n",
    "4. How many features?\n",
    "\n",
    "5. What's the highest test score your achieved on Kaggle (the **actual score value**, not your leaderboard position).\n",
    "\n",
    "\n",
    "## 2. Model Selection\n",
    "\n",
    "1. What algorithms have you chosen? If you've tried multiple models, list them all. Describe your reasoning for choosing these particular models.\n",
    "\n",
    "2. What are the best hyper-parameter settings you've found (e.g. the number of trees, any regularization, sampling ratio, learning rate, the size of the NN, etc.)\n",
    "\n",
    "## 3. Training & Validation\n",
    "\n",
    "1. What is your training and test split approach?\n",
    "\n",
    "2. What methods did you use to evaluate your performance on your datasets. Provide the exact formula and the implementation, or refer to an existing API.\n",
    "\n",
    "   2.1 What is the best score you've achieved?   \n",
    "\n",
    "\n",
    "## 4. Your Code\n",
    "\n",
    "1. Include the your entire training and testing pipeline. **It should run without any errors**.\n",
    "\n",
    "2. Include links to the data to be downloaded here, e.g. https://www.kaggle.com/c/10385/download-all.\n",
    "\n",
    "3. Assume your dataset is stored in the **data** subfolder (relative to the notebook). File name should match the downloaded files.\n",
    "\n",
    "4. Print your **(train score, test score)** as the last output of your notebook. This score formula should match what you've described in #3.2."
   ]
  },
  {
   "cell_type": "code",
   "execution_count": 2,
   "metadata": {
    "collapsed": true
   },
   "outputs": [],
   "source": [
    "# Paste your code here in one or more cells.\n",
    "# The entire code should run without any errors.\n",
    "# Print (train score, test score) as the last line."
   ]
  },
  {
   "cell_type": "code",
   "execution_count": null,
   "metadata": {
    "collapsed": true
   },
   "outputs": [],
   "source": []
  }
 ],
 "metadata": {
  "kernelspec": {
   "display_name": "Python 3",
   "language": "python",
   "name": "python3"
  },
  "language_info": {
   "codemirror_mode": {
    "name": "ipython",
    "version": 3
   },
   "file_extension": ".py",
   "mimetype": "text/x-python",
   "name": "python",
   "nbconvert_exporter": "python",
   "pygments_lexer": "ipython3",
   "version": "3.5.3"
  },
  "varInspector": {
   "cols": {
    "lenName": 16,
    "lenType": 16,
    "lenVar": 40
   },
   "kernels_config": {
    "python": {
     "delete_cmd_postfix": "",
     "delete_cmd_prefix": "del ",
     "library": "var_list.py",
     "varRefreshCmd": "print(var_dic_list())"
    },
    "r": {
     "delete_cmd_postfix": ") ",
     "delete_cmd_prefix": "rm(",
     "library": "var_list.r",
     "varRefreshCmd": "cat(var_dic_list()) "
    }
   },
   "types_to_exclude": [
    "module",
    "function",
    "builtin_function_or_method",
    "instance",
    "_Feature"
   ],
   "window_display": false
  }
 },
 "nbformat": 4,
 "nbformat_minor": 2
}
