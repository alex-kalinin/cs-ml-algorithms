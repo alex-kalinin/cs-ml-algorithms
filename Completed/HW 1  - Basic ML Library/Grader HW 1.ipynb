{
 "cells": [
  {
   "cell_type": "markdown",
   "metadata": {},
   "source": [
    "# Import Your Code Here"
   ]
  },
  {
   "cell_type": "code",
   "execution_count": 1,
   "metadata": {},
   "outputs": [],
   "source": [
    "from csc665 import features, metrics"
   ]
  },
  {
   "cell_type": "markdown",
   "metadata": {},
   "source": [
    "# Prepare"
   ]
  },
  {
   "cell_type": "code",
   "execution_count": 2,
   "metadata": {},
   "outputs": [],
   "source": [
    "import numpy as np\n",
    "import pandas as pd\n",
    "from sklearn.metrics import mean_squared_error, r2_score\n",
    "import unittest as ut\n",
    "\n",
    "class Object(object): pass\n",
    "class TC(ut.TestCase): pass\n",
    "tc = TC()"
   ]
  },
  {
   "cell_type": "code",
   "execution_count": 3,
   "metadata": {},
   "outputs": [],
   "source": [
    "csv_df = pd.read_csv(\"data/Melbourne_housing_FULL.csv\")"
   ]
  },
  {
   "cell_type": "code",
   "execution_count": 4,
   "metadata": {},
   "outputs": [
    {
     "name": "stderr",
     "output_type": "stream",
     "text": [
      "/Users/kalininalex/miniconda3/envs/py35_intel/lib/python3.5/site-packages/sklearn/ensemble/weight_boosting.py:29: DeprecationWarning: numpy.core.umath_tests is an internal NumPy module and should not be imported. It will be removed in a future NumPy release.\n",
      "  from numpy.core.umath_tests import inner1d\n"
     ]
    }
   ],
   "source": [
    "from sklearn.ensemble import RandomForestRegressor\n",
    "rf = RandomForestRegressor()"
   ]
  },
  {
   "cell_type": "markdown",
   "metadata": {},
   "source": [
    "## `preprocess_ver_1`"
   ]
  },
  {
   "cell_type": "code",
   "execution_count": 5,
   "metadata": {},
   "outputs": [],
   "source": [
    "X, y = features.preprocess_ver_1(csv_df, \"Price\")"
   ]
  },
  {
   "cell_type": "code",
   "execution_count": 6,
   "metadata": {},
   "outputs": [
    {
     "data": {
      "text/html": [
       "<div>\n",
       "<style>\n",
       "    .dataframe thead tr:only-child th {\n",
       "        text-align: right;\n",
       "    }\n",
       "\n",
       "    .dataframe thead th {\n",
       "        text-align: left;\n",
       "    }\n",
       "\n",
       "    .dataframe tbody tr th {\n",
       "        vertical-align: top;\n",
       "    }\n",
       "</style>\n",
       "<table border=\"1\" class=\"dataframe\">\n",
       "  <thead>\n",
       "    <tr style=\"text-align: right;\">\n",
       "      <th></th>\n",
       "      <th>2</th>\n",
       "      <th>4</th>\n",
       "      <th>6</th>\n",
       "      <th>11</th>\n",
       "      <th>14</th>\n",
       "    </tr>\n",
       "  </thead>\n",
       "  <tbody>\n",
       "    <tr>\n",
       "      <th>Suburb</th>\n",
       "      <td>0.000000e+00</td>\n",
       "      <td>0.000000e+00</td>\n",
       "      <td>0.000000e+00</td>\n",
       "      <td>0.000000e+00</td>\n",
       "      <td>0.000000e+00</td>\n",
       "    </tr>\n",
       "    <tr>\n",
       "      <th>Address</th>\n",
       "      <td>3.922000e+03</td>\n",
       "      <td>6.458000e+03</td>\n",
       "      <td>6.960000e+03</td>\n",
       "      <td>1.374000e+03</td>\n",
       "      <td>8.740000e+03</td>\n",
       "    </tr>\n",
       "    <tr>\n",
       "      <th>Rooms</th>\n",
       "      <td>2.000000e+00</td>\n",
       "      <td>3.000000e+00</td>\n",
       "      <td>4.000000e+00</td>\n",
       "      <td>3.000000e+00</td>\n",
       "      <td>2.000000e+00</td>\n",
       "    </tr>\n",
       "    <tr>\n",
       "      <th>Type</th>\n",
       "      <td>0.000000e+00</td>\n",
       "      <td>0.000000e+00</td>\n",
       "      <td>0.000000e+00</td>\n",
       "      <td>0.000000e+00</td>\n",
       "      <td>0.000000e+00</td>\n",
       "    </tr>\n",
       "    <tr>\n",
       "      <th>Method</th>\n",
       "      <td>1.000000e+00</td>\n",
       "      <td>3.000000e+00</td>\n",
       "      <td>4.000000e+00</td>\n",
       "      <td>1.000000e+00</td>\n",
       "      <td>1.000000e+00</td>\n",
       "    </tr>\n",
       "    <tr>\n",
       "      <th>SellerG</th>\n",
       "      <td>2.200000e+01</td>\n",
       "      <td>2.200000e+01</td>\n",
       "      <td>1.470000e+02</td>\n",
       "      <td>1.470000e+02</td>\n",
       "      <td>1.470000e+02</td>\n",
       "    </tr>\n",
       "    <tr>\n",
       "      <th>Date</th>\n",
       "      <td>1.459555e+18</td>\n",
       "      <td>1.491178e+18</td>\n",
       "      <td>1.459901e+18</td>\n",
       "      <td>1.467677e+18</td>\n",
       "      <td>1.470787e+18</td>\n",
       "    </tr>\n",
       "    <tr>\n",
       "      <th>Distance</th>\n",
       "      <td>2.500000e+00</td>\n",
       "      <td>2.500000e+00</td>\n",
       "      <td>2.500000e+00</td>\n",
       "      <td>2.500000e+00</td>\n",
       "      <td>2.500000e+00</td>\n",
       "    </tr>\n",
       "    <tr>\n",
       "      <th>Postcode</th>\n",
       "      <td>3.067000e+03</td>\n",
       "      <td>3.067000e+03</td>\n",
       "      <td>3.067000e+03</td>\n",
       "      <td>3.067000e+03</td>\n",
       "      <td>3.067000e+03</td>\n",
       "    </tr>\n",
       "    <tr>\n",
       "      <th>Bedroom2</th>\n",
       "      <td>2.000000e+00</td>\n",
       "      <td>3.000000e+00</td>\n",
       "      <td>3.000000e+00</td>\n",
       "      <td>4.000000e+00</td>\n",
       "      <td>2.000000e+00</td>\n",
       "    </tr>\n",
       "    <tr>\n",
       "      <th>Bathroom</th>\n",
       "      <td>1.000000e+00</td>\n",
       "      <td>2.000000e+00</td>\n",
       "      <td>1.000000e+00</td>\n",
       "      <td>2.000000e+00</td>\n",
       "      <td>1.000000e+00</td>\n",
       "    </tr>\n",
       "    <tr>\n",
       "      <th>Car</th>\n",
       "      <td>0.000000e+00</td>\n",
       "      <td>0.000000e+00</td>\n",
       "      <td>2.000000e+00</td>\n",
       "      <td>0.000000e+00</td>\n",
       "      <td>2.000000e+00</td>\n",
       "    </tr>\n",
       "    <tr>\n",
       "      <th>Landsize</th>\n",
       "      <td>1.560000e+02</td>\n",
       "      <td>1.340000e+02</td>\n",
       "      <td>1.200000e+02</td>\n",
       "      <td>2.450000e+02</td>\n",
       "      <td>2.560000e+02</td>\n",
       "    </tr>\n",
       "    <tr>\n",
       "      <th>BuildingArea</th>\n",
       "      <td>7.900000e+01</td>\n",
       "      <td>1.500000e+02</td>\n",
       "      <td>1.420000e+02</td>\n",
       "      <td>2.100000e+02</td>\n",
       "      <td>1.070000e+02</td>\n",
       "    </tr>\n",
       "    <tr>\n",
       "      <th>YearBuilt</th>\n",
       "      <td>1.900000e+03</td>\n",
       "      <td>1.900000e+03</td>\n",
       "      <td>2.014000e+03</td>\n",
       "      <td>1.910000e+03</td>\n",
       "      <td>1.890000e+03</td>\n",
       "    </tr>\n",
       "    <tr>\n",
       "      <th>CouncilArea</th>\n",
       "      <td>3.100000e+01</td>\n",
       "      <td>3.100000e+01</td>\n",
       "      <td>3.100000e+01</td>\n",
       "      <td>3.100000e+01</td>\n",
       "      <td>3.100000e+01</td>\n",
       "    </tr>\n",
       "    <tr>\n",
       "      <th>Lattitude</th>\n",
       "      <td>-3.780790e+01</td>\n",
       "      <td>-3.780930e+01</td>\n",
       "      <td>-3.780720e+01</td>\n",
       "      <td>-3.780240e+01</td>\n",
       "      <td>-3.780600e+01</td>\n",
       "    </tr>\n",
       "    <tr>\n",
       "      <th>Longtitude</th>\n",
       "      <td>1.449934e+02</td>\n",
       "      <td>1.449944e+02</td>\n",
       "      <td>1.449941e+02</td>\n",
       "      <td>1.449993e+02</td>\n",
       "      <td>1.449954e+02</td>\n",
       "    </tr>\n",
       "    <tr>\n",
       "      <th>Regionname</th>\n",
       "      <td>2.000000e+00</td>\n",
       "      <td>2.000000e+00</td>\n",
       "      <td>2.000000e+00</td>\n",
       "      <td>2.000000e+00</td>\n",
       "      <td>2.000000e+00</td>\n",
       "    </tr>\n",
       "    <tr>\n",
       "      <th>Propertycount</th>\n",
       "      <td>4.019000e+03</td>\n",
       "      <td>4.019000e+03</td>\n",
       "      <td>4.019000e+03</td>\n",
       "      <td>4.019000e+03</td>\n",
       "      <td>4.019000e+03</td>\n",
       "    </tr>\n",
       "  </tbody>\n",
       "</table>\n",
       "</div>"
      ],
      "text/plain": [
       "                         2             4             6             11  \\\n",
       "Suburb         0.000000e+00  0.000000e+00  0.000000e+00  0.000000e+00   \n",
       "Address        3.922000e+03  6.458000e+03  6.960000e+03  1.374000e+03   \n",
       "Rooms          2.000000e+00  3.000000e+00  4.000000e+00  3.000000e+00   \n",
       "Type           0.000000e+00  0.000000e+00  0.000000e+00  0.000000e+00   \n",
       "Method         1.000000e+00  3.000000e+00  4.000000e+00  1.000000e+00   \n",
       "SellerG        2.200000e+01  2.200000e+01  1.470000e+02  1.470000e+02   \n",
       "Date           1.459555e+18  1.491178e+18  1.459901e+18  1.467677e+18   \n",
       "Distance       2.500000e+00  2.500000e+00  2.500000e+00  2.500000e+00   \n",
       "Postcode       3.067000e+03  3.067000e+03  3.067000e+03  3.067000e+03   \n",
       "Bedroom2       2.000000e+00  3.000000e+00  3.000000e+00  4.000000e+00   \n",
       "Bathroom       1.000000e+00  2.000000e+00  1.000000e+00  2.000000e+00   \n",
       "Car            0.000000e+00  0.000000e+00  2.000000e+00  0.000000e+00   \n",
       "Landsize       1.560000e+02  1.340000e+02  1.200000e+02  2.450000e+02   \n",
       "BuildingArea   7.900000e+01  1.500000e+02  1.420000e+02  2.100000e+02   \n",
       "YearBuilt      1.900000e+03  1.900000e+03  2.014000e+03  1.910000e+03   \n",
       "CouncilArea    3.100000e+01  3.100000e+01  3.100000e+01  3.100000e+01   \n",
       "Lattitude     -3.780790e+01 -3.780930e+01 -3.780720e+01 -3.780240e+01   \n",
       "Longtitude     1.449934e+02  1.449944e+02  1.449941e+02  1.449993e+02   \n",
       "Regionname     2.000000e+00  2.000000e+00  2.000000e+00  2.000000e+00   \n",
       "Propertycount  4.019000e+03  4.019000e+03  4.019000e+03  4.019000e+03   \n",
       "\n",
       "                         14  \n",
       "Suburb         0.000000e+00  \n",
       "Address        8.740000e+03  \n",
       "Rooms          2.000000e+00  \n",
       "Type           0.000000e+00  \n",
       "Method         1.000000e+00  \n",
       "SellerG        1.470000e+02  \n",
       "Date           1.470787e+18  \n",
       "Distance       2.500000e+00  \n",
       "Postcode       3.067000e+03  \n",
       "Bedroom2       2.000000e+00  \n",
       "Bathroom       1.000000e+00  \n",
       "Car            2.000000e+00  \n",
       "Landsize       2.560000e+02  \n",
       "BuildingArea   1.070000e+02  \n",
       "YearBuilt      1.890000e+03  \n",
       "CouncilArea    3.100000e+01  \n",
       "Lattitude     -3.780600e+01  \n",
       "Longtitude     1.449954e+02  \n",
       "Regionname     2.000000e+00  \n",
       "Propertycount  4.019000e+03  "
      ]
     },
     "execution_count": 6,
     "metadata": {},
     "output_type": "execute_result"
    }
   ],
   "source": [
    "X.head().T"
   ]
  },
  {
   "cell_type": "code",
   "execution_count": 7,
   "metadata": {},
   "outputs": [
    {
     "name": "stdout",
     "output_type": "stream",
     "text": [
      "(8887, 20) (8887,)\n"
     ]
    }
   ],
   "source": [
    "print(X.shape, y.shape)\n",
    "\n",
    "assert X.shape[0] == 8887, \"X.shape\"\n",
    "assert y.shape[0] == 8887, \"y.shape\""
   ]
  },
  {
   "cell_type": "markdown",
   "metadata": {},
   "source": [
    "## `train_test_split`"
   ]
  },
  {
   "cell_type": "code",
   "execution_count": 8,
   "metadata": {},
   "outputs": [],
   "source": [
    "X_train, X_test, y_train, y_test = features.train_test_split(\n",
    "    X, y, test_size=0.2, shuffle=True, random_state=None)"
   ]
  },
  {
   "cell_type": "code",
   "execution_count": 9,
   "metadata": {},
   "outputs": [
    {
     "name": "stdout",
     "output_type": "stream",
     "text": [
      "(8887, 20) (7109, 20) (1778, 20) (7109,) (1778,)\n"
     ]
    }
   ],
   "source": [
    "print(X.shape, X_train.shape, X_test.shape, y_train.shape, y_test.shape)\n",
    "\n",
    "tc.assertEqual(X_test.shape[0], y_test.shape[0])\n",
    "tc.assertEqual(X_train.shape[0], y_train.shape[0])"
   ]
  },
  {
   "cell_type": "code",
   "execution_count": 10,
   "metadata": {},
   "outputs": [],
   "source": [
    "if \"DataFrame\" in str(type(y_train)):\n",
    "    y_train = y_train[\"Price\"].values\n",
    "\n",
    "if \"DataFrame\" in str(type(y_test)):\n",
    "    y_test = y_test[\"Price\"].values"
   ]
  },
  {
   "cell_type": "code",
   "execution_count": 11,
   "metadata": {},
   "outputs": [
    {
     "name": "stdout",
     "output_type": "stream",
     "text": [
      "CPU times: user 5.88 s, sys: 197 ms, total: 6.07 s\n",
      "Wall time: 6.3 s\n"
     ]
    },
    {
     "data": {
      "text/plain": [
       "RandomForestRegressor(bootstrap=True, criterion='mse', max_depth=None,\n",
       "           max_features='auto', max_leaf_nodes=None,\n",
       "           min_impurity_split=1e-07, min_samples_leaf=1,\n",
       "           min_samples_split=2, min_weight_fraction_leaf=0.0,\n",
       "           n_estimators=100, n_jobs=1, oob_score=False, random_state=17,\n",
       "           verbose=0, warm_start=False)"
      ]
     },
     "execution_count": 11,
     "metadata": {},
     "output_type": "execute_result"
    }
   ],
   "source": [
    "rf = RandomForestRegressor(n_estimators=100 , random_state=17)\n",
    "%time rf.fit(X_train, y_train)"
   ]
  },
  {
   "cell_type": "markdown",
   "metadata": {},
   "source": [
    "## `MSE`"
   ]
  },
  {
   "cell_type": "code",
   "execution_count": 12,
   "metadata": {},
   "outputs": [
    {
     "name": "stdout",
     "output_type": "stream",
     "text": [
      "71836365606.17682 71836365606.17682\n"
     ]
    }
   ],
   "source": [
    "_st = Object()\n",
    "_act = Object()\n",
    "\n",
    "_st.mse = metrics.mse(rf.predict(X_test), y_test)\n",
    "_act.mse = mean_squared_error(y_test, rf.predict(X_test))\n",
    "\n",
    "print(_st.mse, _act.mse)\n",
    "\n",
    "tc.assertAlmostEqual(_st.mse, _act.mse, delta=1)"
   ]
  },
  {
   "cell_type": "markdown",
   "metadata": {},
   "source": [
    "## $R^2$ - Test set"
   ]
  },
  {
   "cell_type": "code",
   "execution_count": 13,
   "metadata": {},
   "outputs": [
    {
     "name": "stdout",
     "output_type": "stream",
     "text": [
      "0.8308478934816088 0.8308478934816088\n"
     ]
    }
   ],
   "source": [
    "_st.r2_test = metrics.rsq(rf.predict(X_test), y_test)\n",
    "_act.r2_test = r2_score(y_test, rf.predict(X_test))\n",
    "\n",
    "print(_st.r2_test, _act.r2_test)\n",
    "tc.assertAlmostEqual(_st.r2_test, _act.r2_test, places=3)\n",
    "tc.assertGreater(_st.r2_test, 0.6)"
   ]
  },
  {
   "cell_type": "markdown",
   "metadata": {},
   "source": [
    "## $R^2$ - Train set"
   ]
  },
  {
   "cell_type": "code",
   "execution_count": 14,
   "metadata": {},
   "outputs": [
    {
     "name": "stdout",
     "output_type": "stream",
     "text": [
      "0.9743623796671624 0.9743623796671624\n"
     ]
    }
   ],
   "source": [
    "_st.r2_train = metrics.rsq(rf.predict(X_train), y_train)\n",
    "_act.r2_train = r2_score(y_train, rf.predict(X_train))\n",
    "\n",
    "print(_st.r2_train, _act.r2_train)\n",
    "tc.assertAlmostEqual(_st.r2_train, _act.r2_train, places=3)\n",
    "tc.assertGreater(_st.r2_train, 0.6)"
   ]
  }
 ],
 "metadata": {
  "kernelspec": {
   "display_name": "Python 3",
   "language": "python",
   "name": "python3"
  },
  "language_info": {
   "codemirror_mode": {
    "name": "ipython",
    "version": 3
   },
   "file_extension": ".py",
   "mimetype": "text/x-python",
   "name": "python",
   "nbconvert_exporter": "python",
   "pygments_lexer": "ipython3",
   "version": "3.5.3"
  },
  "varInspector": {
   "cols": {
    "lenName": 16,
    "lenType": 16,
    "lenVar": 40
   },
   "kernels_config": {
    "python": {
     "delete_cmd_postfix": "",
     "delete_cmd_prefix": "del ",
     "library": "var_list.py",
     "varRefreshCmd": "print(var_dic_list())"
    },
    "r": {
     "delete_cmd_postfix": ") ",
     "delete_cmd_prefix": "rm(",
     "library": "var_list.r",
     "varRefreshCmd": "cat(var_dic_list()) "
    }
   },
   "types_to_exclude": [
    "module",
    "function",
    "builtin_function_or_method",
    "instance",
    "_Feature"
   ],
   "window_display": false
  }
 },
 "nbformat": 4,
 "nbformat_minor": 2
}
