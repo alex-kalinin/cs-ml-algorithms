{
 "cells": [
  {
   "cell_type": "code",
   "execution_count": null,
   "metadata": {},
   "outputs": [],
   "source": [
    "%reload_ext autoreload\n",
    "%autoreload 2\n",
    "%matplotlib inline"
   ]
  },
  {
   "cell_type": "code",
   "execution_count": null,
   "metadata": {},
   "outputs": [],
   "source": [
    "import numpy as np\n",
    "import pandas as pd\n",
    "import matplotlib.pyplot as plt\n",
    "from sklearn import datasets\n",
    "import unittest as ut\n",
    "\n",
    "import sklearn.tree\n",
    "import csc665.tree\n",
    "from sklearn.model_selection import train_test_split\n",
    "\n",
    "class Object(object): pass\n",
    "class TC(ut.TestCase): pass\n",
    "tc = TC()"
   ]
  },
  {
   "cell_type": "markdown",
   "metadata": {},
   "source": [
    "# Import Test Code Here"
   ]
  },
  {
   "cell_type": "code",
   "execution_count": null,
   "metadata": {},
   "outputs": [],
   "source": [
    "from csc665 import tree"
   ]
  },
  {
   "cell_type": "markdown",
   "metadata": {},
   "source": [
    "# Test on Iris"
   ]
  },
  {
   "cell_type": "code",
   "execution_count": null,
   "metadata": {},
   "outputs": [],
   "source": [
    "_iris = Object()\n",
    "_iris.RAND_STATE = 1234\n",
    "_iris.iris = datasets.load_iris()"
   ]
  },
  {
   "cell_type": "code",
   "execution_count": null,
   "metadata": {},
   "outputs": [],
   "source": [
    "_iris.X = pd.DataFrame(data=_iris.iris.data, columns=_iris.iris.feature_names)\n",
    "_iris.y = _iris.iris.target"
   ]
  },
  {
   "cell_type": "markdown",
   "metadata": {},
   "source": [
    "Split with stratification over our labels, $y$. This means that we'll get precise 80/20 split for *each label*."
   ]
  },
  {
   "cell_type": "code",
   "execution_count": null,
   "metadata": {},
   "outputs": [],
   "source": [
    "_iris.X_train, _iris.X_test, _iris.y_train, _iris.y_test = \\\n",
    "    train_test_split(_iris.X, _iris.y, test_size=0.2, stratify=_iris.y,\n",
    "                    random_state=_iris.RAND_STATE)"
   ]
  },
  {
   "cell_type": "code",
   "execution_count": null,
   "metadata": {},
   "outputs": [],
   "source": [
    "_iris.X_train.shape, _iris.X_test.shape, _iris.y_train.shape, _iris.y_test.shape"
   ]
  },
  {
   "cell_type": "markdown",
   "metadata": {},
   "source": [
    "Train set has exatly 40 samples (0.8 of the total) for each label:"
   ]
  },
  {
   "cell_type": "code",
   "execution_count": null,
   "metadata": {},
   "outputs": [],
   "source": [
    "np.unique(_iris.y_train, return_counts=True)"
   ]
  },
  {
   "cell_type": "markdown",
   "metadata": {},
   "source": [
    "The test set has 10 samples of each label:"
   ]
  },
  {
   "cell_type": "code",
   "execution_count": null,
   "metadata": {},
   "outputs": [],
   "source": [
    "np.unique(_iris.y_test, return_counts=True)"
   ]
  },
  {
   "cell_type": "code",
   "execution_count": null,
   "metadata": {},
   "outputs": [],
   "source": [
    "from sklearn.metrics import accuracy_score, precision_score, recall_score, confusion_matrix\n",
    "\n",
    "def compare_classifiers(sk_tree, our_tree, X_train, X_test, y_train, y_test):\n",
    "    sk_tree.fit(X_train, y_train)\n",
    "    our_tree.fit(X_train, y_train)\n",
    "\n",
    "    # Accuracy\n",
    "    expected = accuracy_score(y_train, sk_tree.predict(X_train))\n",
    "    actual = accuracy_score(y_train, our_tree.predict(X_train))\n",
    "    print(\"Train Accuracy - sklearn, ours:\", expected, actual)\n",
    "    tc.assertLess(abs(expected - actual), 0.19)\n",
    "\n",
    "    expected = accuracy_score(y_test, sk_tree.predict(X_test))\n",
    "    actual = accuracy_score(y_test, our_tree.predict(X_test))\n",
    "    print(\"Test Accuracy - sklearn, ours:\", expected, actual)\n",
    "    tc.assertLess(abs(expected - actual), 0.19)\n",
    "    \n",
    "    # Precision\n",
    "    expected = precision_score(y_train, sk_tree.predict(X_train), average=\"macro\")\n",
    "    actual = precision_score(y_train, our_tree.predict(X_train), average=\"macro\")\n",
    "    print(\"Train Precision - sklearn, ours:\", expected, actual)\n",
    "    tc.assertLess(abs(expected - actual), 0.19)\n",
    "\n",
    "    expected = precision_score(y_test, sk_tree.predict(X_test), average=\"macro\")\n",
    "    actual = precision_score(y_test, our_tree.predict(X_test), average=\"macro\")\n",
    "    print(\"Train Precision - sklearn, ours:\", expected, actual)\n",
    "    tc.assertLess(abs(expected - actual), 0.19)\n",
    "    \n",
    "    expected = precision_score(y_test, sk_tree.predict(X_test), average=None)\n",
    "    actual = precision_score(y_test, our_tree.predict(X_test), average=None)\n",
    "#     tc.assertLess(abs(expected - actual), 0.19)\n",
    "#     tc.assertListEqual(expected, actual)\n",
    "    print(\"Test Precision - sklearn, ours:\", expected, actual)\n",
    "    \n",
    "    # Recall\n",
    "    expected = recall_score(y_train, sk_tree.predict(X_train), average=\"macro\")\n",
    "    actual = recall_score(y_train, our_tree.predict(X_train), average=\"macro\")\n",
    "    print(\"Train Recall - sklearn, ours:\", expected, actual)\n",
    "    tc.assertLess(abs(expected - actual), 0.19)\n",
    "\n",
    "    expected = recall_score(y_test, sk_tree.predict(X_test), average=\"macro\")\n",
    "    actual = recall_score(y_test, our_tree.predict(X_test), average=\"macro\")\n",
    "    print(\"Test Recall - sklearn, ours:\", expected, actual)\n",
    "    tc.assertLess(abs(expected - actual), 0.19)\n",
    "    \n",
    "    expected = recall_score(y_test, sk_tree.predict(X_test), average=None)\n",
    "    actual = recall_score(y_test, our_tree.predict(X_test), average=None)\n",
    "#     tc.assertLess(abs(expected - actual), 0.19)\n",
    "#     tc.assertListEqual(expected, actual)\n",
    "    print(\"Test Recall - sklearn, ours:\", expected, actual)\n"
   ]
  },
  {
   "cell_type": "code",
   "execution_count": null,
   "metadata": {},
   "outputs": [],
   "source": [
    "compare_classifiers(sklearn.tree.DecisionTreeClassifier(),\n",
    "                    csc665.tree.DecisionTreeClassifier(max_depth=100, min_samples_leaf=1),\n",
    "                    _iris.X_train, _iris.X_test, _iris.y_train, _iris.y_test)"
   ]
  },
  {
   "cell_type": "code",
   "execution_count": null,
   "metadata": {},
   "outputs": [],
   "source": [
    "compare_classifiers(sklearn.tree.DecisionTreeClassifier(max_depth=1),\n",
    "                    csc665.tree.DecisionTreeClassifier(max_depth=1, min_samples_leaf=1),\n",
    "                    _iris.X_train, _iris.X_test, _iris.y_train, _iris.y_test)"
   ]
  },
  {
   "cell_type": "code",
   "execution_count": null,
   "metadata": {},
   "outputs": [],
   "source": [
    "compare_classifiers(sklearn.tree.DecisionTreeClassifier(min_samples_leaf=10),\n",
    "                    csc665.tree.DecisionTreeClassifier(max_depth=100, min_samples_leaf=10),\n",
    "                    _iris.X_train, _iris.X_test, _iris.y_train, _iris.y_test)"
   ]
  },
  {
   "cell_type": "code",
   "execution_count": null,
   "metadata": {},
   "outputs": [],
   "source": []
  }
 ],
 "metadata": {
  "kernelspec": {
   "display_name": "Python 3",
   "language": "python",
   "name": "python3"
  },
  "language_info": {
   "codemirror_mode": {
    "name": "ipython",
    "version": 3
   },
   "file_extension": ".py",
   "mimetype": "text/x-python",
   "name": "python",
   "nbconvert_exporter": "python",
   "pygments_lexer": "ipython3",
   "version": "3.5.3"
  },
  "varInspector": {
   "cols": {
    "lenName": 16,
    "lenType": 16,
    "lenVar": 40
   },
   "kernels_config": {
    "python": {
     "delete_cmd_postfix": "",
     "delete_cmd_prefix": "del ",
     "library": "var_list.py",
     "varRefreshCmd": "print(var_dic_list())"
    },
    "r": {
     "delete_cmd_postfix": ") ",
     "delete_cmd_prefix": "rm(",
     "library": "var_list.r",
     "varRefreshCmd": "cat(var_dic_list()) "
    }
   },
   "types_to_exclude": [
    "module",
    "function",
    "builtin_function_or_method",
    "instance",
    "_Feature"
   ],
   "window_display": false
  }
 },
 "nbformat": 4,
 "nbformat_minor": 2
}
