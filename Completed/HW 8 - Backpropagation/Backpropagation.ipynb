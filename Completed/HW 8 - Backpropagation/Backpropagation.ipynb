{
 "cells": [
  {
   "cell_type": "code",
   "execution_count": null,
   "metadata": {
    "collapsed": true
   },
   "outputs": [],
   "source": [
    "%reload_ext autoreload\n",
    "%autoreload 2\n",
    "\n",
    "import numpy as np\n",
    "import unittest\n",
    "\n",
    "class Object(object): pass\n",
    "\n",
    "class TC(unittest.TestCase): pass\n",
    "tc = TC()"
   ]
  },
  {
   "cell_type": "markdown",
   "metadata": {},
   "source": [
    "# Imports"
   ]
  },
  {
   "cell_type": "code",
   "execution_count": null,
   "metadata": {
    "collapsed": true
   },
   "outputs": [],
   "source": [
    "from csc665 import graph"
   ]
  },
  {
   "cell_type": "markdown",
   "metadata": {},
   "source": [
    "# Predefined Weights"
   ]
  },
  {
   "cell_type": "code",
   "execution_count": null,
   "metadata": {},
   "outputs": [],
   "source": [
    "_pre = Object()\n",
    "_pre.initial_weights = [\n",
    "    np.array([[-30,  20, 20],\n",
    "              [10,  -20, -20]]),\n",
    "    np.array([[-10, 20, 20]])\n",
    "]\n",
    "\n",
    "_pre.g = graph.XnorGraph(1, 0, 1, learning_rate=0.1, initial_weights=_pre.initial_weights)\n",
    "tc.assertLess(_pre.g.predict(), 0.01)\n",
    "\n",
    "_pre.g = graph.XnorGraph(0, 1, 1, learning_rate=0.1, initial_weights=_pre.initial_weights)\n",
    "tc.assertLess(_pre.g.predict(), 0.01)\n",
    "\n",
    "_pre.g = graph.XnorGraph(1, 1, 1, learning_rate=0.1, initial_weights=_pre.initial_weights)\n",
    "tc.assertGreater(_pre.g.predict(), 0.99)\n",
    "\n",
    "_pre.g = graph.XnorGraph(0, 0, 1, learning_rate=0.1, initial_weights=_pre.initial_weights)\n",
    "tc.assertGreater(_pre.g.predict(), 0.99)"
   ]
  },
  {
   "cell_type": "markdown",
   "metadata": {},
   "source": [
    "# Random Weights"
   ]
  },
  {
   "cell_type": "code",
   "execution_count": null,
   "metadata": {
    "collapsed": true
   },
   "outputs": [],
   "source": [
    "_rnd = Object()\n",
    "_rnd.initial_weights = [\n",
    "    np.array([[-0.06712879,  1.32756237, -0.37880782],\n",
    "             [ 0.578714  ,  1.13425279,  1.29724594]]),\n",
    "    np.array([[0.77283363, -1.14595272,  1.60115422]])\n",
    "]"
   ]
  },
  {
   "cell_type": "code",
   "execution_count": null,
   "metadata": {},
   "outputs": [],
   "source": [
    "_rnd.g = graph.XnorGraph(0, 0, 1, learning_rate=0.1, initial_weights=[\n",
    "    np.array([[-0.06712879,  1.32756237, -0.37880782],\n",
    "             [ 0.578714  ,  1.13425279,  1.29724594]]),\n",
    "    np.array([[0.77283363, -1.14595272,  1.60115422]])\n",
    "])"
   ]
  },
  {
   "cell_type": "code",
   "execution_count": null,
   "metadata": {},
   "outputs": [],
   "source": [
    "print(\"Loss: \", _rnd.g.forward())"
   ]
  },
  {
   "cell_type": "code",
   "execution_count": null,
   "metadata": {},
   "outputs": [],
   "source": [
    "print(\"Current prediction:\", _rnd.g.predict())"
   ]
  },
  {
   "cell_type": "markdown",
   "metadata": {},
   "source": [
    "# Train loop"
   ]
  },
  {
   "cell_type": "code",
   "execution_count": null,
   "metadata": {},
   "outputs": [],
   "source": [
    "for i in range(500):\n",
    "    _rnd.g.forward()\n",
    "    _rnd.g.backward()\n",
    "\n",
    "print(\"Loss:\", _rnd.g.forward())\n",
    "print(\"Predictio:\", _rnd.g.predict())"
   ]
  },
  {
   "cell_type": "markdown",
   "metadata": {},
   "source": [
    "# Test All"
   ]
  },
  {
   "cell_type": "code",
   "execution_count": null,
   "metadata": {
    "collapsed": true
   },
   "outputs": [],
   "source": [
    "def log_loss(y, h):\n",
    "    return -y*np.log(h) - (1-y)*np.log(1-h)\n",
    "\n",
    "def test_one(x1, x2, y):\n",
    "    weights = [np.random.randn(2, 3), np.random.randn(1, 3)]\n",
    "    \n",
    "    g = graph.XnorGraph(x1, x2, y, learning_rate=0.1, initial_weights=weights)\n",
    "    \n",
    "    for i in range(500):\n",
    "        g.forward()\n",
    "        g.backward()\n",
    "    y_pred = g.predict()\n",
    "    loss = g.forward()\n",
    "    tc.assertLess(loss, 0.1)\n",
    "    tc.assertLess(log_loss(y, y_pred), 0.1)\n",
    "    print(y_pred)"
   ]
  },
  {
   "cell_type": "code",
   "execution_count": null,
   "metadata": {},
   "outputs": [],
   "source": [
    "test_one(1, 1, 1)"
   ]
  },
  {
   "cell_type": "code",
   "execution_count": null,
   "metadata": {},
   "outputs": [],
   "source": [
    "test_one(1, 0, 0)"
   ]
  },
  {
   "cell_type": "code",
   "execution_count": null,
   "metadata": {},
   "outputs": [],
   "source": [
    "test_one(0, 1, 0)"
   ]
  },
  {
   "cell_type": "code",
   "execution_count": null,
   "metadata": {},
   "outputs": [],
   "source": [
    "test_one(0, 0, 1)"
   ]
  }
 ],
 "metadata": {
  "kernelspec": {
   "display_name": "Python 3",
   "language": "python",
   "name": "python3"
  },
  "language_info": {
   "codemirror_mode": {
    "name": "ipython",
    "version": 3
   },
   "file_extension": ".py",
   "mimetype": "text/x-python",
   "name": "python",
   "nbconvert_exporter": "python",
   "pygments_lexer": "ipython3",
   "version": "3.5.3"
  },
  "varInspector": {
   "cols": {
    "lenName": 16,
    "lenType": 16,
    "lenVar": 40
   },
   "kernels_config": {
    "python": {
     "delete_cmd_postfix": "",
     "delete_cmd_prefix": "del ",
     "library": "var_list.py",
     "varRefreshCmd": "print(var_dic_list())"
    },
    "r": {
     "delete_cmd_postfix": ") ",
     "delete_cmd_prefix": "rm(",
     "library": "var_list.r",
     "varRefreshCmd": "cat(var_dic_list()) "
    }
   },
   "types_to_exclude": [
    "module",
    "function",
    "builtin_function_or_method",
    "instance",
    "_Feature"
   ],
   "window_display": false
  }
 },
 "nbformat": 4,
 "nbformat_minor": 2
}
