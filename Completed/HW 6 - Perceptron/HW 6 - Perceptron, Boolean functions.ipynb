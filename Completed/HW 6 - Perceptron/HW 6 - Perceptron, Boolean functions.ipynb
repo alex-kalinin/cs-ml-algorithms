{
 "cells": [
  {
   "cell_type": "markdown",
   "metadata": {},
   "source": [
    "# Grader\n",
    "\n",
    "**Make sure the code runs without any errors**"
   ]
  },
  {
   "cell_type": "code",
   "execution_count": null,
   "metadata": {},
   "outputs": [],
   "source": [
    "%reload_ext autoreload\n",
    "%autoreload 2\n",
    "\n",
    "import numpy as np\n",
    "import csc665.perceptron as csc665_perceptron\n",
    "import unittest as ut\n",
    "\n",
    "class Object(object): pass\n",
    "class TC(ut.TestCase): pass\n",
    "tc = TC()"
   ]
  },
  {
   "cell_type": "code",
   "execution_count": null,
   "metadata": {
    "collapsed": true
   },
   "outputs": [],
   "source": [
    "def test_result(nn, test_list):\n",
    "    for x, y_true in test_list:\n",
    "        y_hat = nn.forward(np.array(x))\n",
    "        tc.assertEqual(y_hat, np.array(y_true))"
   ]
  },
  {
   "cell_type": "markdown",
   "metadata": {},
   "source": [
    "## AND"
   ]
  },
  {
   "cell_type": "code",
   "execution_count": null,
   "metadata": {
    "collapsed": true
   },
   "outputs": [],
   "source": [
    "AND = Object()\n",
    "AND.nn = csc665_perceptron.BooleanFactory().create_AND()"
   ]
  },
  {
   "cell_type": "code",
   "execution_count": null,
   "metadata": {
    "collapsed": true
   },
   "outputs": [],
   "source": [
    "test_result(AND.nn, [\n",
    "    ([0, 0], 0),\n",
    "    ([1, 0], 0),\n",
    "    ([0, 1], 0),\n",
    "    ([1, 1], 1)\n",
    "])"
   ]
  },
  {
   "cell_type": "markdown",
   "metadata": {},
   "source": [
    "# OR"
   ]
  },
  {
   "cell_type": "code",
   "execution_count": null,
   "metadata": {
    "collapsed": true
   },
   "outputs": [],
   "source": [
    "OR = Object()\n",
    "OR.nn = csc665_perceptron.BooleanFactory().create_OR()\n",
    "test_result(OR.nn, [\n",
    "    ([0, 0], 0),\n",
    "    ([1, 0], 1),\n",
    "    ([0, 1], 1), \n",
    "    ([1, 1], 1)\n",
    "])"
   ]
  },
  {
   "cell_type": "markdown",
   "metadata": {},
   "source": [
    "# NOT"
   ]
  },
  {
   "cell_type": "code",
   "execution_count": null,
   "metadata": {
    "collapsed": true
   },
   "outputs": [],
   "source": [
    "NOT = Object()\n",
    "NOT.nn = csc665_perceptron.BooleanFactory().create_NOT()\n",
    "test_result(NOT.nn, [\n",
    "    (0, 1),\n",
    "    (1, 0)\n",
    "])"
   ]
  },
  {
   "cell_type": "markdown",
   "metadata": {},
   "source": [
    "# XNOR"
   ]
  },
  {
   "cell_type": "code",
   "execution_count": null,
   "metadata": {
    "collapsed": true
   },
   "outputs": [],
   "source": [
    "test_result(\n",
    "    csc665_perceptron.BooleanFactory().create_XNOR(), \n",
    "    [([0, 0], 1),\n",
    "     ([1, 0], 0),\n",
    "     ([0, 1], 0),\n",
    "     ([1, 1], 1)]\n",
    ")"
   ]
  },
  {
   "cell_type": "markdown",
   "metadata": {},
   "source": [
    "# XOR"
   ]
  },
  {
   "cell_type": "code",
   "execution_count": null,
   "metadata": {
    "collapsed": true
   },
   "outputs": [],
   "source": [
    "test_result(\n",
    "    csc665_perceptron.BooleanFactory().create_XOR(),\n",
    "    [([0, 0], 0),\n",
    "     ([1, 0], 1),\n",
    "     ([0, 1], 1),\n",
    "     ([1, 1], 0)]\n",
    ")"
   ]
  },
  {
   "cell_type": "code",
   "execution_count": null,
   "metadata": {
    "collapsed": true
   },
   "outputs": [],
   "source": []
  }
 ],
 "metadata": {
  "kernelspec": {
   "display_name": "Python 3",
   "language": "python",
   "name": "python3"
  },
  "language_info": {
   "codemirror_mode": {
    "name": "ipython",
    "version": 3
   },
   "file_extension": ".py",
   "mimetype": "text/x-python",
   "name": "python",
   "nbconvert_exporter": "python",
   "pygments_lexer": "ipython3",
   "version": "3.5.3"
  },
  "varInspector": {
   "cols": {
    "lenName": 16,
    "lenType": 16,
    "lenVar": 40
   },
   "kernels_config": {
    "python": {
     "delete_cmd_postfix": "",
     "delete_cmd_prefix": "del ",
     "library": "var_list.py",
     "varRefreshCmd": "print(var_dic_list())"
    },
    "r": {
     "delete_cmd_postfix": ") ",
     "delete_cmd_prefix": "rm(",
     "library": "var_list.r",
     "varRefreshCmd": "cat(var_dic_list()) "
    }
   },
   "types_to_exclude": [
    "module",
    "function",
    "builtin_function_or_method",
    "instance",
    "_Feature"
   ],
   "window_display": false
  }
 },
 "nbformat": 4,
 "nbformat_minor": 2
}
