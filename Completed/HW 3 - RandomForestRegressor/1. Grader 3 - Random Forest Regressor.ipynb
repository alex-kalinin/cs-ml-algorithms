{
 "cells": [
  {
   "cell_type": "markdown",
   "metadata": {},
   "source": [
    "**Don't change the grader**. It will be used to grade your code as is. Fix any errors in your library."
   ]
  },
  {
   "cell_type": "code",
   "execution_count": 1,
   "metadata": {},
   "outputs": [],
   "source": [
    "%reload_ext autoreload\n",
    "%autoreload 2\n",
    "%matplotlib inline"
   ]
  },
  {
   "cell_type": "markdown",
   "metadata": {},
   "source": [
    "# Your Code Imported Here"
   ]
  },
  {
   "cell_type": "code",
   "execution_count": 2,
   "metadata": {},
   "outputs": [
    {
     "name": "stderr",
     "output_type": "stream",
     "text": [
      "/Users/kalininalex/miniconda3/envs/py35_intel/lib/python3.5/site-packages/sklearn/ensemble/weight_boosting.py:29: DeprecationWarning: numpy.core.umath_tests is an internal NumPy module and should not be imported. It will be removed in a future NumPy release.\n",
      "  from numpy.core.umath_tests import inner1d\n"
     ]
    }
   ],
   "source": [
    "from csc665 import features, metrics\n",
    "import csc665.ensemble"
   ]
  },
  {
   "cell_type": "markdown",
   "metadata": {},
   "source": [
    "# Prepare"
   ]
  },
  {
   "cell_type": "code",
   "execution_count": 7,
   "metadata": {},
   "outputs": [],
   "source": [
    "import numpy as np\n",
    "import pandas as pd\n",
    "from sklearn.metrics import mean_squared_error, r2_score\n",
    "import unittest as ut\n",
    "import sklearn.ensemble\n",
    "\n",
    "class Object(object): pass\n",
    "class TC(ut.TestCase): pass\n",
    "tc = TC()"
   ]
  },
  {
   "cell_type": "code",
   "execution_count": 4,
   "metadata": {},
   "outputs": [],
   "source": [
    "def compare_models(sk_model, our_model, X_train, X_test, y_train, y_test):\n",
    "    sk_model.fit(X_train, y_train)\n",
    "    our_model.fit(X_train, y_train)\n",
    "#     print(our_tree)\n",
    "    \n",
    "    expected = metrics.rsq(sk_model.predict(X_train), y_train)\n",
    "    actual = metrics.rsq(our_model.predict(X_train), y_train)\n",
    "    print(\"Train, sklearn, ours:\", expected, actual)\n",
    "    tc.assertAlmostEqual(expected, actual)\n",
    "    \n",
    "    expected = metrics.rsq(sk_model.predict(X_test), y_test)\n",
    "    actual = metrics.rsq(our_model.predict(X_test), y_test)\n",
    "    print(\"Test, sklearn, ours:\", expected, actual)\n",
    "    tc.assertLess(abs(expected - actual), 0.19)"
   ]
  },
  {
   "cell_type": "markdown",
   "metadata": {},
   "source": [
    "# Income Dataset"
   ]
  },
  {
   "cell_type": "code",
   "execution_count": 5,
   "metadata": {},
   "outputs": [],
   "source": [
    "income_df = pd.read_csv(\"http://www-bcf.usc.edu/~gareth/ISL/Income2.csv\")\n",
    "income_df = income_df.drop(\"Unnamed: 0\", axis=1)\n",
    "_income = features.Object()\n",
    "_income.X = income_df.drop(\"Income\", axis=1)\n",
    "_income.y = income_df[\"Income\"].values"
   ]
  },
  {
   "cell_type": "code",
   "execution_count": 6,
   "metadata": {},
   "outputs": [],
   "source": [
    "import sklearn.model_selection\n",
    "RAND_STATE = 17\n",
    "\n",
    "_income.X_train, _income.X_test, _income.y_train, _income.y_test = \\\n",
    "    sklearn.model_selection.train_test_split(\n",
    "        _income.X, \n",
    "        _income.y, \n",
    "        test_size=0.2, \n",
    "        random_state=RAND_STATE)"
   ]
  },
  {
   "cell_type": "markdown",
   "metadata": {},
   "source": [
    "### Income Dataset"
   ]
  },
  {
   "cell_type": "code",
   "execution_count": 11,
   "metadata": {
    "run_control": {
     "marked": false
    }
   },
   "outputs": [
    {
     "name": "stdout",
     "output_type": "stream",
     "text": [
      "Train, sklearn, ours: 0.9364717923402179 0.9364717923402179\n",
      "Test, sklearn, ours: 0.721713329027837 0.721713329027837\n"
     ]
    }
   ],
   "source": [
    "compare_models(\n",
    "    sklearn.ensemble.RandomForestRegressor(n_estimators=1, random_state=RAND_STATE),\n",
    "    csc665.ensemble.RandomForestRegressor(n_estimators=1, sample_ratio=1.0, random_state=RAND_STATE),\n",
    "    _income.X_train, _income.X_test, _income.y_train, _income.y_test)"
   ]
  },
  {
   "cell_type": "code",
   "execution_count": 12,
   "metadata": {
    "run_control": {
     "marked": false
    }
   },
   "outputs": [
    {
     "name": "stdout",
     "output_type": "stream",
     "text": [
      "Train, sklearn, ours: 0.9843304440755631 0.9843304440755631\n",
      "Test, sklearn, ours: 0.8274958775158834 0.8274958775158834\n"
     ]
    }
   ],
   "source": [
    "compare_models(\n",
    "    sklearn.ensemble.RandomForestRegressor(n_estimators=10, random_state=RAND_STATE),\n",
    "    csc665.ensemble.RandomForestRegressor(n_estimators=10, sample_ratio=1.0, random_state=RAND_STATE),\n",
    "    _income.X_train, _income.X_test, _income.y_train, _income.y_test)"
   ]
  },
  {
   "cell_type": "code",
   "execution_count": 13,
   "metadata": {
    "run_control": {
     "marked": false
    }
   },
   "outputs": [
    {
     "name": "stdout",
     "output_type": "stream",
     "text": [
      "Train, sklearn, ours: 0.9889569097665746 0.9889569097665746\n",
      "Test, sklearn, ours: 0.883233461265201 0.883233461265201\n"
     ]
    }
   ],
   "source": [
    "compare_models(\n",
    "    sklearn.ensemble.RandomForestRegressor(n_estimators=100, random_state=RAND_STATE),\n",
    "    csc665.ensemble.RandomForestRegressor(n_estimators=100, sample_ratio=1.0, random_state=RAND_STATE),\n",
    "    _income.X_train, _income.X_test, _income.y_train, _income.y_test)"
   ]
  },
  {
   "cell_type": "markdown",
   "metadata": {},
   "source": [
    "# Melbourne Dataset - Sampled\n",
    "\n",
    "We'll use only 200 datapoints from Melbourne dataset for performance reasons."
   ]
  },
  {
   "cell_type": "code",
   "execution_count": 18,
   "metadata": {},
   "outputs": [],
   "source": [
    "csv_df = pd.read_csv(\"data/Melbourne_housing_FULL.csv\")"
   ]
  },
  {
   "cell_type": "code",
   "execution_count": 22,
   "metadata": {},
   "outputs": [],
   "source": [
    "_mel = Object()\n",
    "_mel.X, _mel.y = features.preprocess_ver_1(csv_df, \"Price\")"
   ]
  },
  {
   "cell_type": "code",
   "execution_count": 23,
   "metadata": {},
   "outputs": [
    {
     "name": "stdout",
     "output_type": "stream",
     "text": [
      "(8887, 20) (8887,)\n"
     ]
    }
   ],
   "source": [
    "print(_mel.X.shape, _mel.y.shape)\n",
    "\n",
    "assert _mel.X.shape[0] == 8887, \"X.shape\"\n",
    "assert _mel.y.shape[0] == 8887, \"y.shape\""
   ]
  },
  {
   "cell_type": "code",
   "execution_count": 27,
   "metadata": {},
   "outputs": [],
   "source": [
    "_mel_sampled = Object()\n",
    "_mel_sampled.X_train = _mel.X[:200]\n",
    "_mel_sampled.y_train = _mel.y[:200]\n",
    "_mel_sampled.X_test = _mel.X[:50]\n",
    "_mel_sampled.y_test = _mel.y[:50]"
   ]
  },
  {
   "cell_type": "code",
   "execution_count": 28,
   "metadata": {
    "run_control": {
     "marked": false
    }
   },
   "outputs": [
    {
     "name": "stdout",
     "output_type": "stream",
     "text": [
      "Train, sklearn, ours: 0.920353425859184 0.920353425859184\n",
      "Test, sklearn, ours: 0.8391223876039476 0.8391223876039476\n"
     ]
    }
   ],
   "source": [
    "compare_models(\n",
    "    sklearn.ensemble.RandomForestRegressor(n_estimators=1, random_state=RAND_STATE),\n",
    "    csc665.ensemble.RandomForestRegressor(n_estimators=1, sample_ratio=1.0, random_state=RAND_STATE),\n",
    "    _mel_sampled.X_train, _mel_sampled.X_test, _mel_sampled.y_train, _mel_sampled.y_test)"
   ]
  },
  {
   "cell_type": "code",
   "execution_count": null,
   "metadata": {},
   "outputs": [],
   "source": []
  }
 ],
 "metadata": {
  "kernelspec": {
   "display_name": "Python 3",
   "language": "python",
   "name": "python3"
  },
  "language_info": {
   "codemirror_mode": {
    "name": "ipython",
    "version": 3
   },
   "file_extension": ".py",
   "mimetype": "text/x-python",
   "name": "python",
   "nbconvert_exporter": "python",
   "pygments_lexer": "ipython3",
   "version": "3.5.3"
  },
  "varInspector": {
   "cols": {
    "lenName": 16,
    "lenType": 16,
    "lenVar": 40
   },
   "kernels_config": {
    "python": {
     "delete_cmd_postfix": "",
     "delete_cmd_prefix": "del ",
     "library": "var_list.py",
     "varRefreshCmd": "print(var_dic_list())"
    },
    "r": {
     "delete_cmd_postfix": ") ",
     "delete_cmd_prefix": "rm(",
     "library": "var_list.r",
     "varRefreshCmd": "cat(var_dic_list()) "
    }
   },
   "types_to_exclude": [
    "module",
    "function",
    "builtin_function_or_method",
    "instance",
    "_Feature"
   ],
   "window_display": false
  }
 },
 "nbformat": 4,
 "nbformat_minor": 2
}
